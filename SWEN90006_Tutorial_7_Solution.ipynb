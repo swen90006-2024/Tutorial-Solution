{
  "cells": [
    {
      "cell_type": "markdown",
      "id": "d8b28f7a",
      "metadata": {
        "id": "d8b28f7a"
      },
      "source": [
        "# SWEN90006 Tutorial 7 Solution"
      ]
    },
    {
      "cell_type": "markdown",
      "id": "529f655d",
      "metadata": {
        "id": "529f655d"
      },
      "source": [
        "**NOTE** You are expected to prepare for this tutorial by sketching\n",
        "answers to the tasks and questions before attending the tutorial."
      ]
    },
    {
      "cell_type": "markdown",
      "id": "eb55cf06",
      "metadata": {
        "id": "eb55cf06"
      },
      "source": [
        "## Introduction\n",
        "The aim of this tutorial is to get you thinking about software security\n",
        "and vulnerabilities, and the applicability of different kinds of\n",
        "security testing.\n",
        "\n",
        "As a first step, think about what security testing is, and why we would\n",
        "want to perform security testing on our software.\n",
        "\n",
        "**Solution:**\n",
        "\n",
        "1. Ordinary program testing seeks to uncover program faults, exhibited by failures: when the program's observable behaviour differs from what it was intended or required to do. In contrast, security testing seeks to uncover security *vulnerabilities*: typically extra functionality that allows an attacker to do something unwanted.\n",
        "\n",
        "    This \"something unwanted\" could include the attacker:\n",
        "\n",
        "    -   Causing the program to crash (perhaps denying service,\n",
        "        i.e. *availability*, to other users);\n",
        "\n",
        "    -   Causing the program to corrupt data (violating data *integrity*);\n",
        "\n",
        "    -   Causing the program to reveal sensitive data (violating data\n",
        "        *confidentiality*);\n",
        "\n",
        "    -   Causing the program to take an excessive amount of time to execute\n",
        "        (degrading performance and possibly affecting availability for other\n",
        "        users);\n",
        "\n",
        "    -   Causing the program to execute attacker-controlled functionality (in\n",
        "        the worst case, arbitrary attacker-supplied code).\n",
        "\n",
        "\n",
        "2. The prevalence of security *patching*, where software upgrades are\n",
        "periodically released to address security vulnerabilities, indicates how\n",
        "difficult it is to program software without security vulnerabilities\n",
        "and, therefore, the importance of testing for them. The potential cost\n",
        "of an attacker exploiting these vulnerabilities, in an age where\n",
        "software routinely manages and processes huge bodies of users' personal\n",
        "information, only makes the case for security testing stronger.\n",
        "\n",
        "\n",
        "3. While the unwanted functionality is usually extra functionality,\n",
        "unintended by the program's specification or requirements, remember that\n",
        "by testing for common kinds of unwanted behaviour (e.g. program crashes,\n",
        "undefined behaviour, information leaks etc.), security testing (as with\n",
        "ordinary testing) can also uncover vulnerabilities that exist in a\n",
        "program's specification or design."
      ]
    },
    {
      "cell_type": "markdown",
      "id": "379881f5",
      "metadata": {
        "id": "379881f5"
      },
      "source": [
        "## The Bitmap File Format\n",
        "\n",
        "BMP is an historical image file format that we will use in this\n",
        "tutorial. We will consider a simple class of BMP files whose format is\n",
        "as follows. (Specifically, we consider here BMP files with no\n",
        "compression, and in which each pixel is 32-bits wide in order to avoid\n",
        "issues of padding; see\n",
        "<http://www.fastgraph.com/help/bmp_header_format.html> and\n",
        "<https://en.wikipedia.org/wiki/BMP_file_format> for more details.)\n",
        "\n",
        "| Offset | Size (in bytes)              | Description                                                        |\n",
        "|--------|------------------------------|--------------------------------------------------------------------|\n",
        "| 0      | 1                            | first byte of signature, must be 0x42 (the ASCII character 'B')    |\n",
        "| 1      | 1                            | second byte of signature, must be 0x4D (the ASCII character 'M')   |\n",
        "| 2      | 4                            | size of the BMP file in bytes (unreliable, ignored)                |\n",
        "| 6      | 2                            | Must be zero                                                       |\n",
        "| 8      | 2                            | Must be zero                                                       |\n",
        "| 10     | 4                            | Must be the value 54 (i.e. 0x00000036)                            |\n",
        "| 14     | 4                            | Must be the value 40 (i.e. 0x00000028)                            |\n",
        "| 18     | 4                            | *Width* (image width in pixels, as signed integer)            |\n",
        "| 22     | 4                            | *Height* (image height in pixels, as signed integer)          |\n",
        "| 26     | 2                            | Must be one                                                        |\n",
        "| 28     | 2                            | Number of bits per pixel (must be 32)                              |\n",
        "| 30     | 4                            | Compression type (must be 0 = no compression)                      |\n",
        "| 34     | 4                            | Size of image data in bytes (must be 4\\**Width*\\**Height*) |\n",
        "| 38     | 4                            | unreliable (ignored)                                               |\n",
        "| 42     | 4                            | unreliable (ignored)                                               |\n",
        "| 46     | 4                            | Must be zero                                                       |\n",
        "| 50     | 4                            | Must be zero                                                       |\n",
        "| 54     | 4\\**Width*\\**Height* | Pixel data, laid out in rows                                       |\n",
        "\n",
        "The first byte (offset 0) of a valid BMP file is the character 'B'; the\n",
        "second byte (offset 1) is the character 'M'. The 3rd to 6th bytes\n",
        "(offsets 2 to 5 inclusive) indicate the total length of the BMP file but\n",
        "are unreliable in practice and so let us assume that they are ignored by\n",
        "all BMP parsing code. The 7th and 8th bytes (offsets 6 and 7) are\n",
        "interpreted as a 2-byte integer that must be zero, i.e. each of these\n",
        "bytes must be zero. The same is true for the 9th and 10th bytes (offsets\n",
        "8 and 9), and so on."
      ]
    },
    {
      "cell_type": "markdown",
      "id": "609dd600",
      "metadata": {
        "id": "609dd600"
      },
      "source": [
        "## Your Tasks\n",
        "\n",
        "\n",
        "### Question 1\n",
        "Imagine you are choosing a value for each of the fields in the table\n",
        "above *in order*, i.e. you first choose a value for the first byte of\n",
        "the file, then choose a value for the second byte of the file, then for\n",
        "following 4-bytes, and so on. For each field, identify the total number\n",
        "of valid values there are to choose from, assuming you have already\n",
        "chosen values for all fields that have come before.\n",
        "\n",
        "**Solution**:\n",
        "\n",
        "| Offset | Size (in bytes)              | Description                                                    | Choices                                                                              |\n",
        "|--------|------------------------------|----------------------------------------------------------------|--------------------------------------------------------------------------------------|\n",
        "| 0      | 1                            | must be 0x42                                                   | 1                                                                                    |\n",
        "| 1      | 1                            | must be 0x4D                                                   | 1                                                                                    |\n",
        "| 2      | 4                            | ignored, so we can choose anything                             | $2^{32}$                                                                             |\n",
        "| 6      | 2                            | Must be zero                                                   | 1                                                                                    |\n",
        "| 8      | 2                            | Must be zero                                                   | 1                                                                                    |\n",
        "| 10     | 4                            | Must be the value 54                                           | 1                                                                                    |\n",
        "| 14     | 4                            | Must be the value 40                                           | 1                                                                                    |\n",
        "| 18     | 4                            | Width (signed int), must be in $1 \\ldots 2^{31} - 1$  | $2^{31} - 1$                                                                         |\n",
        "| 22     | 4                            | Height (signed int), must be in $1 \\ldots 2^{31} - 1$ | $2^{31} - 1$                                                                         |\n",
        "| 26     | 2                            | Must be one                                                    | 1                                                                                    |\n",
        "| 28     | 2                            | Must be 32                                                     | 1                                                                                    |\n",
        "| 30     | 4                            | Must be 0                                                      | 1                                                                                    |\n",
        "| 34     | 4                            | Must be 4\\*Width\\*Height                           | 1                                                                                    |\n",
        "| 38     | 4                            | ignored, so can be anything                                    | $2^{32}$                                                                             |\n",
        "| 42     | 4                            | ignored, so can be anything                                    | $2^{32}$                                                                             |\n",
        "| 46     | 4                            | Must be zero                                                   | 1                                                                                    |\n",
        "| 50     | 4                            | Must be zero                                                   | 1                                                                                    |\n",
        "| 54     | 4\\**Width*\\**Height* | Pixel data, can be anything                                    | $$~~~256^{4*\\mathit{Width}*\\mathit{Height}}~~~=~~~(2^{32})^{\\mathit{Width}*\\mathit{Height}}~~$$ |\n",
        "\n",
        "\n",
        "### Question 2\n",
        "The BMP header (i.e. everything excluding the pixel data) as described\n",
        "above has a fixed length of 54 bytes. Using the answer from the previous\n",
        "question or otherwise, what is the probability that a (uniformly)\n",
        "randomly generated string of 54 bytes is a valid BMP header?\n",
        "\n",
        "**Solution:**\n",
        "\n",
        "$$\\begin{array}{l}\n",
        "= \\frac{1}{2^8} \\cdot \\frac{1}{2^8} \\cdot 1 \\cdot \\frac{1}{2^{16}} \\cdot \\frac{1}{2^{16}} \\cdot \\frac{1}{2^{32}} \\cdot \\frac{1}{2^{32}} \\cdot \\frac{2^{31} - 1}{2^{32}} \\cdot \\frac{2^{31} - 1}{2^{32}} \\cdot \\frac{1}{2^{16}} \\cdot \\frac{1}{2^{16}} \\cdot \\frac{1}{2^{32}} \\cdot \\frac{1}{2^{32}} \\cdot 1 \\cdot 1 \\cdot \\frac{1}{2^{32}} \\cdot \\frac{1}{2^{32}} \\\\ \\\\\n",
        "= \\frac{2^{62} - 2^{32} - 1}{2^{336}}  \\\\ \\\\\n",
        "\\approx \\frac{2^{62}}{2^{336}}  \\\\ \\\\\n",
        "= \\frac{1}{2^{274}}  \\\\ \\\\\n",
        "\\approx 3 \\times 10^{-83}  \\\\\n",
        "\\end{array}$$\n",
        "\n",
        "### Question 3 and Question 4 will be further discussed next week to review the lecture content. "
      ]
    },
    {
      "cell_type": "code",
      "execution_count": null,
      "id": "e826544b",
      "metadata": {
        "id": "e826544b",
        "vscode": {
          "languageId": "java"
        }
      },
      "outputs": [],
      "source": []
    }
  ],
  "metadata": {
    "colab": {
      "include_colab_link": true,
      "name": "SWEN90006_Tutorial_06.ipynb",
      "provenance": []
    },
    "kernelspec": {
      "display_name": "Java",
      "language": "java",
      "name": "java"
    },
    "language_info": {
      "codemirror_mode": "java",
      "file_extension": ".jshell",
      "mimetype": "text/x-java-source",
      "name": "Java",
      "pygments_lexer": "java",
      "version": "10.0.2+13"
    }
  },
  "nbformat": 4,
  "nbformat_minor": 5
}
